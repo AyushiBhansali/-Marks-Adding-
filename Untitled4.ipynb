{
  "nbformat": 4,
  "nbformat_minor": 0,
  "metadata": {
    "colab": {
      "provenance": [],
      "authorship_tag": "ABX9TyNv574o2Czm62aH2W6Q1ZBP",
      "include_colab_link": true
    },
    "kernelspec": {
      "name": "python3",
      "display_name": "Python 3"
    },
    "language_info": {
      "name": "python"
    }
  },
  "cells": [
    {
      "cell_type": "markdown",
      "metadata": {
        "id": "view-in-github",
        "colab_type": "text"
      },
      "source": [
        "<a href=\"https://colab.research.google.com/github/AyushiBhansali/-Marks-Adding-/blob/main/Untitled4.ipynb\" target=\"_parent\"><img src=\"https://colab.research.google.com/assets/colab-badge.svg\" alt=\"Open In Colab\"/></a>"
      ]
    },
    {
      "cell_type": "code",
      "source": [
        "# Sample data for roll numbers and marks\n",
        "data = [\n",
        "    (\"Roll1\", 85),\n",
        "    (\"Roll2\", 92),\n",
        "    (\"Roll3\", 78),\n",
        "    (\"Roll4\", 90),\n",
        "    (\"Roll5\", 88)\n",
        "]\n",
        "\n",
        "# Open the input file for writing\n",
        "with open(\"input.txt\", \"w\") as file:\n",
        "    # Write the roll numbers and marks to the file\n",
        "    for roll, marks in data:\n",
        "        file.write(f\"{roll} {marks}\\n\")\n",
        "\n"
      ],
      "metadata": {
        "id": "EM9IV_C5mYE4"
      },
      "execution_count": 2,
      "outputs": []
    },
    {
      "cell_type": "code",
      "execution_count": 3,
      "metadata": {
        "id": "BfDDWX5Rl1Hr"
      },
      "outputs": [],
      "source": [
        "# Open the input file for reading\n",
        "with open(\"input.txt\", \"r\") as input_file:\n",
        "    # Read the lines from the input file\n",
        "    lines = input_file.readlines()\n",
        "\n",
        "# Initialize a variable to store the total marks\n",
        "total_marks = 0\n",
        "\n",
        "# Iterate over the lines and add up the marks\n",
        "for line in lines:\n",
        "    # Split the line into roll number and marks\n",
        "    roll_number, marks = line.strip().split()\n",
        "    # Convert marks to an integer and add it to the total\n",
        "    total_marks += int(marks)\n",
        "\n",
        "# Open the output file for writing\n",
        "with open(\"output.txt\", \"w\") as output_file:\n",
        "    # Write the total marks to the output file\n",
        "    output_file.write(\"Total Marks: \" + str(total_marks))\n"
      ]
    },
    {
      "cell_type": "code",
      "source": [
        "# Open the output file for reading\n",
        "with open(\"output.txt\", \"r\") as file:\n",
        "    # Read the contents of the output file\n",
        "    contents = file.read()\n",
        "\n",
        "# Print the contents of the output file\n",
        "print(contents)\n"
      ],
      "metadata": {
        "colab": {
          "base_uri": "https://localhost:8080/"
        },
        "id": "Pyo4xQhOmwUC",
        "outputId": "245fcdd0-c274-4823-fa25-42d45bd74592"
      },
      "execution_count": 4,
      "outputs": [
        {
          "output_type": "stream",
          "name": "stdout",
          "text": [
            "Total Marks: 433\n"
          ]
        }
      ]
    }
  ]
}